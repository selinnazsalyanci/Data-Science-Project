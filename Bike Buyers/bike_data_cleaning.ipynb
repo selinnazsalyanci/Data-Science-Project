{
 "cells": [
  {
   "cell_type": "code",
   "execution_count": 1,
   "id": "40d1abea",
   "metadata": {
    "scrolled": false
   },
   "outputs": [],
   "source": [
    "import pandas as pnds\n",
    "import numpy as nmpy\n",
    "\n",
    "# import and Display all data\n",
    "ds =  pnds.read_csv(\"bike_buyers.csv\")\n",
    "#ds.head(1000) an additional code to display pure dataset"
   ]
  },
  {
   "cell_type": "markdown",
   "id": "04f18030",
   "metadata": {},
   "source": [
    "# cleaning data"
   ]
  },
  {
   "cell_type": "code",
   "execution_count": 13,
   "id": "0d2f63dc",
   "metadata": {},
   "outputs": [],
   "source": [
    "# Replace the null values with \"No Data\"\n",
    "\n",
    "ds['Marital Status'].fillna(\"No Data\", inplace=True)\n",
    "ds['Gender'].fillna(\"No Data\", inplace=True)\n",
    "ds['Home Owner'].fillna(\"No Data\", inplace=True)\n",
    "ds['Children'].fillna(\"No Data\", inplace=True)\n",
    "ds['Cars'].fillna(\"No Data\", inplace=True)\n",
    "\n",
    "#takes the mean for the missing values\n",
    "age = ds[\"Age\"].mean()\n",
    "ds[\"Age\"].fillna(age, inplace = True)\n",
    "\n",
    "income = ds[\"Income\"].mean()\n",
    "ds[\"Income\"].fillna(income, inplace = True)"
   ]
  }
 ],
 "metadata": {
  "kernelspec": {
   "display_name": "Python 3",
   "language": "python",
   "name": "python3"
  },
  "language_info": {
   "codemirror_mode": {
    "name": "ipython",
    "version": 3
   },
   "file_extension": ".py",
   "mimetype": "text/x-python",
   "name": "python",
   "nbconvert_exporter": "python",
   "pygments_lexer": "ipython3",
   "version": "3.8.8"
  }
 },
 "nbformat": 4,
 "nbformat_minor": 5
}
