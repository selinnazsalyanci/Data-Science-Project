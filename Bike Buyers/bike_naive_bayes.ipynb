{
 "cells": [
  {
   "cell_type": "code",
   "execution_count": 2,
   "id": "8b7933ee",
   "metadata": {
    "scrolled": true
   },
   "outputs": [],
   "source": [
    "#Importing libraries\n",
    "import numpy as nmpy\n",
    "import matplotlib.pyplot as mplt\n",
    "import pandas as pnds\n",
    "import seaborn as sbrn \n",
    "import sklearn\n",
    "\n",
    "#add cleaned set\n",
    "ds =  pnds.read_csv(\"bike_buyers_clean.csv\")"
   ]
  },
  {
   "cell_type": "code",
   "execution_count": 3,
   "id": "14bae782",
   "metadata": {},
   "outputs": [
    {
     "data": {
      "text/html": [
       "<div>\n",
       "<style scoped>\n",
       "    .dataframe tbody tr th:only-of-type {\n",
       "        vertical-align: middle;\n",
       "    }\n",
       "\n",
       "    .dataframe tbody tr th {\n",
       "        vertical-align: top;\n",
       "    }\n",
       "\n",
       "    .dataframe thead th {\n",
       "        text-align: right;\n",
       "    }\n",
       "</style>\n",
       "<table border=\"1\" class=\"dataframe\">\n",
       "  <thead>\n",
       "    <tr style=\"text-align: right;\">\n",
       "      <th></th>\n",
       "      <th>ID</th>\n",
       "      <th>Marital Status</th>\n",
       "      <th>Gender</th>\n",
       "      <th>Income</th>\n",
       "      <th>Children</th>\n",
       "      <th>Education</th>\n",
       "      <th>Occupation</th>\n",
       "      <th>Home Owner</th>\n",
       "      <th>Cars</th>\n",
       "      <th>Commute Distance</th>\n",
       "      <th>Region</th>\n",
       "      <th>Age</th>\n",
       "      <th>Purchased Bike</th>\n",
       "    </tr>\n",
       "  </thead>\n",
       "  <tbody>\n",
       "    <tr>\n",
       "      <th>0</th>\n",
       "      <td>12496</td>\n",
       "      <td>0</td>\n",
       "      <td>0</td>\n",
       "      <td>40000</td>\n",
       "      <td>1</td>\n",
       "      <td>0</td>\n",
       "      <td>4</td>\n",
       "      <td>1</td>\n",
       "      <td>0</td>\n",
       "      <td>0</td>\n",
       "      <td>0</td>\n",
       "      <td>42</td>\n",
       "      <td>0</td>\n",
       "    </tr>\n",
       "    <tr>\n",
       "      <th>1</th>\n",
       "      <td>24107</td>\n",
       "      <td>0</td>\n",
       "      <td>1</td>\n",
       "      <td>30000</td>\n",
       "      <td>3</td>\n",
       "      <td>3</td>\n",
       "      <td>0</td>\n",
       "      <td>1</td>\n",
       "      <td>1</td>\n",
       "      <td>0</td>\n",
       "      <td>0</td>\n",
       "      <td>43</td>\n",
       "      <td>0</td>\n",
       "    </tr>\n",
       "    <tr>\n",
       "      <th>2</th>\n",
       "      <td>14177</td>\n",
       "      <td>0</td>\n",
       "      <td>1</td>\n",
       "      <td>80000</td>\n",
       "      <td>5</td>\n",
       "      <td>3</td>\n",
       "      <td>3</td>\n",
       "      <td>0</td>\n",
       "      <td>2</td>\n",
       "      <td>3</td>\n",
       "      <td>0</td>\n",
       "      <td>60</td>\n",
       "      <td>0</td>\n",
       "    </tr>\n",
       "    <tr>\n",
       "      <th>3</th>\n",
       "      <td>24381</td>\n",
       "      <td>1</td>\n",
       "      <td>1</td>\n",
       "      <td>70000</td>\n",
       "      <td>0</td>\n",
       "      <td>0</td>\n",
       "      <td>3</td>\n",
       "      <td>1</td>\n",
       "      <td>1</td>\n",
       "      <td>4</td>\n",
       "      <td>2</td>\n",
       "      <td>41</td>\n",
       "      <td>1</td>\n",
       "    </tr>\n",
       "    <tr>\n",
       "      <th>4</th>\n",
       "      <td>25597</td>\n",
       "      <td>1</td>\n",
       "      <td>1</td>\n",
       "      <td>30000</td>\n",
       "      <td>0</td>\n",
       "      <td>0</td>\n",
       "      <td>0</td>\n",
       "      <td>0</td>\n",
       "      <td>0</td>\n",
       "      <td>0</td>\n",
       "      <td>0</td>\n",
       "      <td>36</td>\n",
       "      <td>1</td>\n",
       "    </tr>\n",
       "  </tbody>\n",
       "</table>\n",
       "</div>"
      ],
      "text/plain": [
       "      ID  Marital Status  Gender  Income  Children  Education  Occupation  \\\n",
       "0  12496               0       0   40000         1          0           4   \n",
       "1  24107               0       1   30000         3          3           0   \n",
       "2  14177               0       1   80000         5          3           3   \n",
       "3  24381               1       1   70000         0          0           3   \n",
       "4  25597               1       1   30000         0          0           0   \n",
       "\n",
       "   Home Owner  Cars  Commute Distance  Region  Age  Purchased Bike  \n",
       "0           1     0                 0       0   42               0  \n",
       "1           1     1                 0       0   43               0  \n",
       "2           0     2                 3       0   60               0  \n",
       "3           1     1                 4       2   41               1  \n",
       "4           0     0                 0       0   36               1  "
      ]
     },
     "execution_count": 3,
     "metadata": {},
     "output_type": "execute_result"
    }
   ],
   "source": [
    "from sklearn import preprocessing #imported library for encoding\n",
    "\n",
    "l_e = preprocessing.LabelEncoder() #for each different variable encoded(tranformation to get all varaibles in the same data type)\n",
    "\n",
    "ds['Marital Status'] = l_e.fit_transform(ds['Marital Status']) #same process for each variable except int values\n",
    "ds['Gender'] = l_e.fit_transform(ds['Gender'])\n",
    "ds['Education'] = l_e.fit_transform(ds['Education'])\n",
    "ds['Occupation'] = l_e.fit_transform(ds['Occupation'])\n",
    "ds['Home Owner'] = l_e.fit_transform(ds['Home Owner'])\n",
    "ds['Commute Distance'] = l_e.fit_transform(ds['Commute Distance'])\n",
    "ds['Region'] = l_e.fit_transform(ds['Region'])\n",
    "ds['Purchased Bike'] = l_e.fit_transform(ds['Purchased Bike'])\n",
    "\n",
    "#print transformed values\n",
    "ds.head()"
   ]
  },
  {
   "cell_type": "code",
   "execution_count": 4,
   "id": "62028042",
   "metadata": {},
   "outputs": [],
   "source": [
    "X = ds.drop(['Purchased Bike'], axis=1)#independent variable(all values except \"purchased bike\")\n",
    "y = ds['Purchased Bike'] #the dependent variable (purchased bike or not= 0 or 1)"
   ]
  },
  {
   "cell_type": "code",
   "execution_count": 5,
   "id": "f31c87a6",
   "metadata": {},
   "outputs": [
    {
     "data": {
      "text/plain": [
       "((800, 12), (200, 12))"
      ]
     },
     "execution_count": 5,
     "metadata": {},
     "output_type": "execute_result"
    }
   ],
   "source": [
    "from sklearn.model_selection import train_test_split #imported for data decomposition\n",
    "\n",
    "#separates data at random into two parts, test and train\n",
    "\n",
    "X_train, X_test, y_train, y_test = train_test_split(X, y, test_size = 200, random_state = 0) \n",
    "#test sample= 200 test set, training sample= 800 training set\n",
    "X_train.shape, X_test.shape #displays sets"
   ]
  },
  {
   "cell_type": "code",
   "execution_count": 6,
   "id": "5a4fc93e",
   "metadata": {},
   "outputs": [
    {
     "data": {
      "text/plain": [
       "687    0\n",
       "500    0\n",
       "332    1\n",
       "979    0\n",
       "817    1\n",
       "      ..\n",
       "835    1\n",
       "192    0\n",
       "629    0\n",
       "559    0\n",
       "684    0\n",
       "Name: Purchased Bike, Length: 800, dtype: int32"
      ]
     },
     "execution_count": 6,
     "metadata": {},
     "output_type": "execute_result"
    }
   ],
   "source": [
    "y_train #since it is a traing set it shows 800 values about if bike purchased or not (0 or 1)"
   ]
  },
  {
   "cell_type": "code",
   "execution_count": 7,
   "id": "80953f5c",
   "metadata": {},
   "outputs": [
    {
     "data": {
      "text/plain": [
       "GaussianNB()"
      ]
     },
     "execution_count": 7,
     "metadata": {},
     "output_type": "execute_result"
    }
   ],
   "source": [
    "#import GNB classifier\n",
    "from sklearn.naive_bayes import GaussianNB\n",
    "\n",
    "gnb = GaussianNB() #Created the gnb object that we will create from the GaussianNB class\n",
    "gnb.fit(X_train, y_train)"
   ]
  },
  {
   "cell_type": "code",
   "execution_count": 8,
   "id": "fcbb2c08",
   "metadata": {},
   "outputs": [],
   "source": [
    "y_pred = gnb.predict(X_test) #We made predictions with the model we created using our separated x test set (X_test),\n",
    "# and compared the set (y_pred) with our target variable (y_test) test set."
   ]
  },
  {
   "cell_type": "code",
   "execution_count": 9,
   "id": "de4dcccb",
   "metadata": {},
   "outputs": [
    {
     "name": "stdout",
     "output_type": "stream",
     "text": [
      "accuracy score of the model is -> 0.6100\n"
     ]
    }
   ],
   "source": [
    "from sklearn.metrics import accuracy_score\n",
    "\n",
    "#calculate and display model-accuracy score\n",
    "mas = accuracy_score(y_test,y_pred)\n",
    "print('accuracy score of the model is -> {0:0.4f}'.format(mas))"
   ]
  },
  {
   "cell_type": "code",
   "execution_count": 10,
   "id": "7929b905",
   "metadata": {},
   "outputs": [
    {
     "name": "stdout",
     "output_type": "stream",
     "text": [
      "accuracy score of the training set is -> 0.6225\n"
     ]
    }
   ],
   "source": [
    "#calculate and display Training-set accuracy score\n",
    "y_pred_train = gnb.predict(X_train)\n",
    "tsas=accuracy_score(y_train, y_pred_train)\n",
    "print('accuracy score of the training set is -> {0:0.4f}'. format(tsas))"
   ]
  },
  {
   "cell_type": "code",
   "execution_count": 11,
   "id": "326c9607",
   "metadata": {},
   "outputs": [
    {
     "name": "stdout",
     "output_type": "stream",
     "text": [
      "Confusion matrix\n",
      "[[59 40]\n",
      " [38 63]]\n"
     ]
    }
   ],
   "source": [
    "from sklearn.metrics import confusion_matrix\n",
    "#creates error matrix\n",
    "conf_mat = confusion_matrix(y_test, y_pred)\n",
    "print('Confusion matrix')\n",
    "print(conf_mat)"
   ]
  },
  {
   "cell_type": "code",
   "execution_count": 13,
   "id": "7c809ec4",
   "metadata": {},
   "outputs": [
    {
     "data": {
      "image/png": "[encoded data removed]",
      "text/plain": [
       "<Figure size 432x288 with 2 Axes>"
      ]
     },
     "metadata": {
      "needs_background": "light"
     },
     "output_type": "display_data"
    }
   ],
   "source": [
    "#create visualization object for confusion matrix\n",
    "visual_matrix = pnds.DataFrame(data=conf_mat, columns=['True Positive', 'True Negative'], \n",
    "                                 index=['False Positive', 'False Negative'])\n",
    "\n",
    "sbrn.heatmap(visual_matrix, annot=True, fmt='d', cmap='nipy_spectral') #visualization setting \n",
    "mplt.show()"
   ]
  }
 ],
 "metadata": {
  "kernelspec": {
   "display_name": "Python 3",
   "language": "python",
   "name": "python3"
  },
  "language_info": {
   "codemirror_mode": {
    "name": "ipython",
    "version": 3
   },
   "file_extension": ".py",
   "mimetype": "text/x-python",
   "name": "python",
   "nbconvert_exporter": "python",
   "pygments_lexer": "ipython3",
   "version": "3.8.8"
  }
 },
 "nbformat": 4,
 "nbformat_minor": 5
}
